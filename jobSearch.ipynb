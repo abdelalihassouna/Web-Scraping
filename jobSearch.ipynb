{
 "cells": [
  {
   "cell_type": "markdown",
   "metadata": {},
   "source": [
    "# WEB SCRAPING PROJECT\n",
    "\n",
    "#### In this project we will see:\n",
    "\n",
    "1) Which Libraries we need to use\n",
    "2) How to get data from multiple web pages\n",
    "3) How to find and import value tags\n",
    "4) Create Dataframe with values\n",
    "5) We'll answer at some questions"
   ]
  },
  {
   "cell_type": "code",
   "execution_count": 15,
   "metadata": {},
   "outputs": [],
   "source": [
    "# All libraries we'll need\n",
    "from bs4 import BeautifulSoup as soup\n",
    "import requests\n",
    "import pandas as pd\n",
    "import seaborn as sns\n",
    "import matplotlib.pyplot as plt"
   ]
  },
  {
   "cell_type": "code",
   "execution_count": 47,
   "metadata": {},
   "outputs": [],
   "source": [
    "# Set up the URL\n",
    "url = 'https://www.glassdoor.it/Lavoro/italia-data-science-lavori-SRCH_IL.0,6_IN120_KO7,19.htm?includeNoSalaryJobs=true'\n",
    "def get_soup(url):\n",
    "    html = requests.get(url)\n",
    "    return soup(html.content, 'lxml')"
   ]
  },
  {
   "cell_type": "code",
   "execution_count": 102,
   "metadata": {},
   "outputs": [],
   "source": [
    "# Get the values we want\n",
    "url_list = []\n",
    "companyName = []\n",
    "jobTitle = []\n",
    "location = []\n",
    "posted = []\n",
    "\n",
    "for i in range(1,50):\n",
    "    url = f'https://wuzzuf.net/search/jobs/?a=hpb&q=&start=+{str(i)}'\n",
    "    bsobj = get_soup(url)\n",
    "    #print('===================== Page {} ===================== '.format(i))\n",
    "    \n",
    "    for company in bsobj.find_all('a', {'class':'css-17s97q8'}):\n",
    "        companyName.append(company.get_text())\n",
    "\n",
    "    for job in bsobj.find_all('h2', {'class':'css-m604qf'}):\n",
    "        jobTitle.append(job.get_text())\n",
    "\n",
    "    for loc in bsobj.find_all('span', {'class':'css-5wys0k'}):\n",
    "        location.append(loc.get_text())\n",
    "\n",
    "    for time in bsobj.find_all('div', {'class':'css-4c4ojb'}):\n",
    "        if time.get_text() == '':\n",
    "            posted.append('not specified')\n",
    "        else:\n",
    "            posted.append(time.get_text())"
   ]
  },
  {
   "cell_type": "code",
   "execution_count": 103,
   "metadata": {},
   "outputs": [
    {
     "data": {
      "text/html": [
       "<div>\n",
       "<style scoped>\n",
       "    .dataframe tbody tr th:only-of-type {\n",
       "        vertical-align: middle;\n",
       "    }\n",
       "\n",
       "    .dataframe tbody tr th {\n",
       "        vertical-align: top;\n",
       "    }\n",
       "\n",
       "    .dataframe thead th {\n",
       "        text-align: right;\n",
       "    }\n",
       "</style>\n",
       "<table border=\"1\" class=\"dataframe\">\n",
       "  <thead>\n",
       "    <tr style=\"text-align: right;\">\n",
       "      <th></th>\n",
       "      <th>Company Name</th>\n",
       "      <th>Job Title</th>\n",
       "      <th>Location</th>\n",
       "      <th>Posted</th>\n",
       "    </tr>\n",
       "  </thead>\n",
       "  <tbody>\n",
       "    <tr>\n",
       "      <th>0</th>\n",
       "      <td>Majorel Egypt -</td>\n",
       "      <td>Medical Company Call Center Agents .</td>\n",
       "      <td>Katameya, Cairo, Egypt</td>\n",
       "      <td>1 hour ago</td>\n",
       "    </tr>\n",
       "    <tr>\n",
       "      <th>1</th>\n",
       "      <td>Creator -</td>\n",
       "      <td>Search Engine Optimization Specialist</td>\n",
       "      <td>Sheikh Zayed, Giza, Egypt</td>\n",
       "      <td>2 hours ago</td>\n",
       "    </tr>\n",
       "    <tr>\n",
       "      <th>2</th>\n",
       "      <td>The Address Investments for Real Estate Consul...</td>\n",
       "      <td>Training Officer (REAL ESTATE)</td>\n",
       "      <td>New Cairo, Cairo, Egypt</td>\n",
       "      <td>2 hours ago</td>\n",
       "    </tr>\n",
       "    <tr>\n",
       "      <th>3</th>\n",
       "      <td>Confidential -</td>\n",
       "      <td>Senior HR Manager</td>\n",
       "      <td>Mokattam, Cairo, Egypt</td>\n",
       "      <td>2 hours ago</td>\n",
       "    </tr>\n",
       "    <tr>\n",
       "      <th>4</th>\n",
       "      <td>Majorel Egypt -</td>\n",
       "      <td>English Back Office Agent. (Airlines Company)..</td>\n",
       "      <td>Katameya, Cairo, Egypt</td>\n",
       "      <td>2 hours ago</td>\n",
       "    </tr>\n",
       "    <tr>\n",
       "      <th>...</th>\n",
       "      <td>...</td>\n",
       "      <td>...</td>\n",
       "      <td>...</td>\n",
       "      <td>...</td>\n",
       "    </tr>\n",
       "    <tr>\n",
       "      <th>730</th>\n",
       "      <td>Alaa El din insurance -</td>\n",
       "      <td>Credit Officer مسئول الائتمان</td>\n",
       "      <td>Cairo, Egypt</td>\n",
       "      <td>5 days ago</td>\n",
       "    </tr>\n",
       "    <tr>\n",
       "      <th>731</th>\n",
       "      <td>Perfect Presentation -</td>\n",
       "      <td>Mobile Application Development Team Lead</td>\n",
       "      <td>6th of October, Giza, Egypt</td>\n",
       "      <td>5 days ago</td>\n",
       "    </tr>\n",
       "    <tr>\n",
       "      <th>732</th>\n",
       "      <td>Tabarak Holding  -</td>\n",
       "      <td>Executive Manager - ( Residential Compound )</td>\n",
       "      <td>New Cairo, Cairo, Egypt</td>\n",
       "      <td>5 days ago</td>\n",
       "    </tr>\n",
       "    <tr>\n",
       "      <th>733</th>\n",
       "      <td>Firoz Group -</td>\n",
       "      <td>Senior Technical Office Engineer ( Mechanical )</td>\n",
       "      <td>Nasr City, Cairo, Egypt</td>\n",
       "      <td>5 days ago</td>\n",
       "    </tr>\n",
       "    <tr>\n",
       "      <th>734</th>\n",
       "      <td>Target Recruitment  &amp; HR Solutions  -</td>\n",
       "      <td>Warehouse Specialist</td>\n",
       "      <td>Alexandria, Egypt</td>\n",
       "      <td>5 days ago</td>\n",
       "    </tr>\n",
       "  </tbody>\n",
       "</table>\n",
       "<p>735 rows × 4 columns</p>\n",
       "</div>"
      ],
      "text/plain": [
       "                                          Company Name  \\\n",
       "0                                      Majorel Egypt -   \n",
       "1                                            Creator -   \n",
       "2    The Address Investments for Real Estate Consul...   \n",
       "3                                       Confidential -   \n",
       "4                                      Majorel Egypt -   \n",
       "..                                                 ...   \n",
       "730                            Alaa El din insurance -   \n",
       "731                             Perfect Presentation -   \n",
       "732                                 Tabarak Holding  -   \n",
       "733                                      Firoz Group -   \n",
       "734              Target Recruitment  & HR Solutions  -   \n",
       "\n",
       "                                           Job Title  \\\n",
       "0               Medical Company Call Center Agents .   \n",
       "1              Search Engine Optimization Specialist   \n",
       "2                     Training Officer (REAL ESTATE)   \n",
       "3                                  Senior HR Manager   \n",
       "4    English Back Office Agent. (Airlines Company)..   \n",
       "..                                               ...   \n",
       "730                    Credit Officer مسئول الائتمان   \n",
       "731         Mobile Application Development Team Lead   \n",
       "732     Executive Manager - ( Residential Compound )   \n",
       "733  Senior Technical Office Engineer ( Mechanical )   \n",
       "734                             Warehouse Specialist   \n",
       "\n",
       "                         Location       Posted  \n",
       "0         Katameya, Cairo, Egypt    1 hour ago  \n",
       "1      Sheikh Zayed, Giza, Egypt   2 hours ago  \n",
       "2        New Cairo, Cairo, Egypt   2 hours ago  \n",
       "3         Mokattam, Cairo, Egypt   2 hours ago  \n",
       "4         Katameya, Cairo, Egypt   2 hours ago  \n",
       "..                            ...          ...  \n",
       "730                 Cairo, Egypt    5 days ago  \n",
       "731  6th of October, Giza, Egypt    5 days ago  \n",
       "732      New Cairo, Cairo, Egypt    5 days ago  \n",
       "733      Nasr City, Cairo, Egypt    5 days ago  \n",
       "734            Alexandria, Egypt    5 days ago  \n",
       "\n",
       "[735 rows x 4 columns]"
      ]
     },
     "execution_count": 103,
     "metadata": {},
     "output_type": "execute_result"
    }
   ],
   "source": [
    "# Create a dataframe\n",
    "df = pd.DataFrame({'Company Name':companyName, 'Job Title':jobTitle, 'Location':location, 'Posted':posted})\n",
    "df"
   ]
  },
  {
   "cell_type": "code",
   "execution_count": 126,
   "metadata": {},
   "outputs": [
    {
     "name": "stdout",
     "output_type": "stream",
     "text": [
      "There are 0 duplicate values\n"
     ]
    }
   ],
   "source": [
    "# Check if there are any duplicate values\n",
    "print(f'There are {df.duplicated().sum()} duplicate values')"
   ]
  },
  {
   "cell_type": "code",
   "execution_count": 131,
   "metadata": {},
   "outputs": [
    {
     "name": "stdout",
     "output_type": "stream",
     "text": [
      "There are 0 null values\n"
     ]
    },
    {
     "data": {
      "text/plain": [
       "Company Name    0\n",
       "Job Title       0\n",
       "Location        0\n",
       "Posted          0\n",
       "dtype: int64"
      ]
     },
     "execution_count": 131,
     "metadata": {},
     "output_type": "execute_result"
    }
   ],
   "source": [
    "# Check if there are any null values\n",
    "print('There are {} null values'.format(df.isnull().sum().sum()))\n",
    "df.isnull().sum()"
   ]
  },
  {
   "cell_type": "markdown",
   "metadata": {},
   "source": [
    "## Best 10 cities for search a job"
   ]
  },
  {
   "cell_type": "code",
   "execution_count": 107,
   "metadata": {},
   "outputs": [
    {
     "data": {
      "text/plain": [
       "Cairo, Egypt                      122\n",
       "Maadi, Cairo, Egypt                93\n",
       "New Cairo, Cairo, Egypt            81\n",
       "6th of October, Giza, Egypt        58\n",
       "Nasr City, Cairo, Egypt            48\n",
       "                                 ... \n",
       "Dubai, United Arab Emirates         1\n",
       "Ras Albar, Damietta, Egypt          1\n",
       "Berlin, Germany                     1\n",
       "Tabuk, Saudi Arabia                 1\n",
       "Wadi Alnatrun, Beheira, Egypt       1\n",
       "Name: Location, Length: 74, dtype: int64"
      ]
     },
     "execution_count": 107,
     "metadata": {},
     "output_type": "execute_result"
    }
   ],
   "source": [
    "df['Location'].value_counts()"
   ]
  },
  {
   "cell_type": "code",
   "execution_count": 108,
   "metadata": {},
   "outputs": [
    {
     "data": {
      "text/plain": [
       "<AxesSubplot:xlabel='count', ylabel='Location'>"
      ]
     },
     "execution_count": 108,
     "metadata": {},
     "output_type": "execute_result"
    },
    {
     "data": {
      "image/png": "[encoded data removed]",
      "text/plain": [
       "<Figure size 432x288 with 1 Axes>"
      ]
     },
     "metadata": {
      "needs_background": "light"
     },
     "output_type": "display_data"
    }
   ],
   "source": [
    "sns.countplot(y='Location', data=df, order=df['Location'].value_counts().iloc[:10].index)"
   ]
  },
  {
   "cell_type": "markdown",
   "metadata": {},
   "source": [
    "# Best 10 companies where search a job"
   ]
  },
  {
   "cell_type": "code",
   "execution_count": 109,
   "metadata": {},
   "outputs": [
    {
     "data": {
      "text/plain": [
       "<AxesSubplot:xlabel='count', ylabel='Company Name'>"
      ]
     },
     "execution_count": 109,
     "metadata": {},
     "output_type": "execute_result"
    },
    {
     "data": {
      "image/png": "[encoded data removed]",
      "text/plain": [
       "<Figure size 432x288 with 1 Axes>"
      ]
     },
     "metadata": {
      "needs_background": "light"
     },
     "output_type": "display_data"
    }
   ],
   "source": [
    "sns.countplot(y='Company Name', data=df, order=df['Company Name'].value_counts().iloc[:10].index)"
   ]
  },
  {
   "cell_type": "markdown",
   "metadata": {},
   "source": [
    "# Best 10 job"
   ]
  },
  {
   "cell_type": "code",
   "execution_count": 110,
   "metadata": {},
   "outputs": [
    {
     "data": {
      "text/plain": [
       "<AxesSubplot:xlabel='count', ylabel='Job Title'>"
      ]
     },
     "execution_count": 110,
     "metadata": {},
     "output_type": "execute_result"
    },
    {
     "data": {
      "image/png": "[encoded data removed]",
      "text/plain": [
       "<Figure size 432x288 with 1 Axes>"
      ]
     },
     "metadata": {
      "needs_background": "light"
     },
     "output_type": "display_data"
    }
   ],
   "source": [
    "sns.countplot(y='Job Title', data=df, order=df['Job Title'].value_counts().iloc[:10].index)"
   ]
  },
  {
   "cell_type": "markdown",
   "metadata": {},
   "source": [
    "# How many job contain the 'data' keyword into job title?"
   ]
  },
  {
   "cell_type": "code",
   "execution_count": 111,
   "metadata": {},
   "outputs": [
    {
     "data": {
      "text/html": [
       "<div>\n",
       "<style scoped>\n",
       "    .dataframe tbody tr th:only-of-type {\n",
       "        vertical-align: middle;\n",
       "    }\n",
       "\n",
       "    .dataframe tbody tr th {\n",
       "        vertical-align: top;\n",
       "    }\n",
       "\n",
       "    .dataframe thead th {\n",
       "        text-align: right;\n",
       "    }\n",
       "</style>\n",
       "<table border=\"1\" class=\"dataframe\">\n",
       "  <thead>\n",
       "    <tr style=\"text-align: right;\">\n",
       "      <th></th>\n",
       "      <th>Company Name</th>\n",
       "      <th>Job Title</th>\n",
       "      <th>Location</th>\n",
       "      <th>Posted</th>\n",
       "    </tr>\n",
       "  </thead>\n",
       "  <tbody>\n",
       "    <tr>\n",
       "      <th>27</th>\n",
       "      <td>Botit -</td>\n",
       "      <td>Data Entry Specialist</td>\n",
       "      <td>Abdeen, Cairo, Egypt</td>\n",
       "      <td>4 hours ago</td>\n",
       "    </tr>\n",
       "    <tr>\n",
       "      <th>88</th>\n",
       "      <td>Confidential -</td>\n",
       "      <td>Data Archiving Specialist</td>\n",
       "      <td>Cairo, Egypt</td>\n",
       "      <td>6 hours ago</td>\n",
       "    </tr>\n",
       "    <tr>\n",
       "      <th>561</th>\n",
       "      <td>QOAD  -</td>\n",
       "      <td>Senior Database Developer</td>\n",
       "      <td>Sheraton, Cairo, Egypt</td>\n",
       "      <td>4 days ago</td>\n",
       "    </tr>\n",
       "    <tr>\n",
       "      <th>584</th>\n",
       "      <td>Centro CDX -</td>\n",
       "      <td>Senior Data Architect</td>\n",
       "      <td>Cairo, Egypt</td>\n",
       "      <td>4 days ago</td>\n",
       "    </tr>\n",
       "    <tr>\n",
       "      <th>606</th>\n",
       "      <td>The International School of Elite Education -</td>\n",
       "      <td>Data Analyst</td>\n",
       "      <td>New Cairo, Cairo, Egypt</td>\n",
       "      <td>4 days ago</td>\n",
       "    </tr>\n",
       "  </tbody>\n",
       "</table>\n",
       "</div>"
      ],
      "text/plain": [
       "                                      Company Name                  Job Title  \\\n",
       "27                                         Botit -      Data Entry Specialist   \n",
       "88                                  Confidential -  Data Archiving Specialist   \n",
       "561                                        QOAD  -  Senior Database Developer   \n",
       "584                                   Centro CDX -      Senior Data Architect   \n",
       "606  The International School of Elite Education -               Data Analyst   \n",
       "\n",
       "                     Location       Posted  \n",
       "27      Abdeen, Cairo, Egypt   4 hours ago  \n",
       "88              Cairo, Egypt   6 hours ago  \n",
       "561   Sheraton, Cairo, Egypt    4 days ago  \n",
       "584             Cairo, Egypt    4 days ago  \n",
       "606  New Cairo, Cairo, Egypt    4 days ago  "
      ]
     },
     "execution_count": 111,
     "metadata": {},
     "output_type": "execute_result"
    }
   ],
   "source": [
    "df[df['Job Title'].str.contains('Data')].head()"
   ]
  },
  {
   "cell_type": "code",
   "execution_count": 112,
   "metadata": {},
   "outputs": [
    {
     "name": "stdout",
     "output_type": "stream",
     "text": [
      "Has been found 5 jobs related to Data\n"
     ]
    }
   ],
   "source": [
    "data = len(df[df['Job Title'].str.contains('Data')])\n",
    "print(f'Has been found {data} jobs related to Data')"
   ]
  },
  {
   "cell_type": "markdown",
   "metadata": {},
   "source": [
    "# How many job contain the 'Designer' keyword into job title?"
   ]
  },
  {
   "cell_type": "code",
   "execution_count": 113,
   "metadata": {},
   "outputs": [
    {
     "data": {
      "text/html": [
       "<div>\n",
       "<style scoped>\n",
       "    .dataframe tbody tr th:only-of-type {\n",
       "        vertical-align: middle;\n",
       "    }\n",
       "\n",
       "    .dataframe tbody tr th {\n",
       "        vertical-align: top;\n",
       "    }\n",
       "\n",
       "    .dataframe thead th {\n",
       "        text-align: right;\n",
       "    }\n",
       "</style>\n",
       "<table border=\"1\" class=\"dataframe\">\n",
       "  <thead>\n",
       "    <tr style=\"text-align: right;\">\n",
       "      <th></th>\n",
       "      <th>Company Name</th>\n",
       "      <th>Job Title</th>\n",
       "      <th>Location</th>\n",
       "      <th>Posted</th>\n",
       "    </tr>\n",
       "  </thead>\n",
       "  <tbody>\n",
       "    <tr>\n",
       "      <th>21</th>\n",
       "      <td>Deli Techno -</td>\n",
       "      <td>Senior Graphic Designer</td>\n",
       "      <td>Alexandria, Egypt</td>\n",
       "      <td>4 hours ago</td>\n",
       "    </tr>\n",
       "    <tr>\n",
       "      <th>48</th>\n",
       "      <td>British International School, Cairo -</td>\n",
       "      <td>Graphic Designer</td>\n",
       "      <td>Sheikh Zayed, Giza, Egypt</td>\n",
       "      <td>5 hours ago</td>\n",
       "    </tr>\n",
       "    <tr>\n",
       "      <th>56</th>\n",
       "      <td>Sarah Attqnia CO. -</td>\n",
       "      <td>Mechanical Designer - رسام ميكانيك</td>\n",
       "      <td>Riyadh, Saudi Arabia</td>\n",
       "      <td>5 hours ago</td>\n",
       "    </tr>\n",
       "    <tr>\n",
       "      <th>59</th>\n",
       "      <td>Sarah Attqnia CO. -</td>\n",
       "      <td>Architecture Designer - رسام معمارى</td>\n",
       "      <td>Riyadh, Saudi Arabia</td>\n",
       "      <td>5 hours ago</td>\n",
       "    </tr>\n",
       "    <tr>\n",
       "      <th>107</th>\n",
       "      <td>Harmony -</td>\n",
       "      <td>Industrial Designer</td>\n",
       "      <td>6th of October, Giza, Egypt</td>\n",
       "      <td>7 hours ago</td>\n",
       "    </tr>\n",
       "  </tbody>\n",
       "</table>\n",
       "</div>"
      ],
      "text/plain": [
       "                              Company Name  \\\n",
       "21                           Deli Techno -   \n",
       "48   British International School, Cairo -   \n",
       "56                     Sarah Attqnia CO. -   \n",
       "59                     Sarah Attqnia CO. -   \n",
       "107                              Harmony -   \n",
       "\n",
       "                               Job Title                      Location  \\\n",
       "21               Senior Graphic Designer            Alexandria, Egypt    \n",
       "48                      Graphic Designer    Sheikh Zayed, Giza, Egypt    \n",
       "56    Mechanical Designer - رسام ميكانيك         Riyadh, Saudi Arabia    \n",
       "59   Architecture Designer - رسام معمارى         Riyadh, Saudi Arabia    \n",
       "107                  Industrial Designer  6th of October, Giza, Egypt    \n",
       "\n",
       "          Posted  \n",
       "21   4 hours ago  \n",
       "48   5 hours ago  \n",
       "56   5 hours ago  \n",
       "59   5 hours ago  \n",
       "107  7 hours ago  "
      ]
     },
     "execution_count": 113,
     "metadata": {},
     "output_type": "execute_result"
    }
   ],
   "source": [
    "df[df['Job Title'].str.contains('Designer')].head()"
   ]
  },
  {
   "cell_type": "code",
   "execution_count": 114,
   "metadata": {},
   "outputs": [
    {
     "name": "stdout",
     "output_type": "stream",
     "text": [
      "Has been found 12 jobs related to Designer\n"
     ]
    }
   ],
   "source": [
    "Designer = len(df[df['Job Title'].str.contains('Designer')])\n",
    "print(f'Has been found {Designer} jobs related to Designer')"
   ]
  },
  {
   "cell_type": "markdown",
   "metadata": {},
   "source": [
    "# How many job contain the 'Frontend' keyword into job title?"
   ]
  },
  {
   "cell_type": "code",
   "execution_count": 115,
   "metadata": {},
   "outputs": [
    {
     "data": {
      "text/html": [
       "<div>\n",
       "<style scoped>\n",
       "    .dataframe tbody tr th:only-of-type {\n",
       "        vertical-align: middle;\n",
       "    }\n",
       "\n",
       "    .dataframe tbody tr th {\n",
       "        vertical-align: top;\n",
       "    }\n",
       "\n",
       "    .dataframe thead th {\n",
       "        text-align: right;\n",
       "    }\n",
       "</style>\n",
       "<table border=\"1\" class=\"dataframe\">\n",
       "  <thead>\n",
       "    <tr style=\"text-align: right;\">\n",
       "      <th></th>\n",
       "      <th>Company Name</th>\n",
       "      <th>Job Title</th>\n",
       "      <th>Location</th>\n",
       "      <th>Posted</th>\n",
       "    </tr>\n",
       "  </thead>\n",
       "  <tbody>\n",
       "    <tr>\n",
       "      <th>7</th>\n",
       "      <td>Arabian Systems -</td>\n",
       "      <td>Frontend Team Lead</td>\n",
       "      <td>New Cairo, Cairo, Egypt</td>\n",
       "      <td>2 hours ago</td>\n",
       "    </tr>\n",
       "    <tr>\n",
       "      <th>114</th>\n",
       "      <td>ATI Systems -</td>\n",
       "      <td>Angular Frontend Developer</td>\n",
       "      <td>Mohandessin, Giza, Egypt</td>\n",
       "      <td>7 hours ago</td>\n",
       "    </tr>\n",
       "    <tr>\n",
       "      <th>697</th>\n",
       "      <td>FORALL -  -</td>\n",
       "      <td>Web Frontend Developer</td>\n",
       "      <td>Cairo, Egypt</td>\n",
       "      <td>5 days ago</td>\n",
       "    </tr>\n",
       "  </tbody>\n",
       "</table>\n",
       "</div>"
      ],
      "text/plain": [
       "          Company Name                   Job Title                   Location  \\\n",
       "7    Arabian Systems -          Frontend Team Lead   New Cairo, Cairo, Egypt    \n",
       "114      ATI Systems -  Angular Frontend Developer  Mohandessin, Giza, Egypt    \n",
       "697        FORALL -  -      Web Frontend Developer              Cairo, Egypt    \n",
       "\n",
       "          Posted  \n",
       "7    2 hours ago  \n",
       "114  7 hours ago  \n",
       "697   5 days ago  "
      ]
     },
     "execution_count": 115,
     "metadata": {},
     "output_type": "execute_result"
    }
   ],
   "source": [
    "df[df['Job Title'].str.contains('Frontend')].head()"
   ]
  },
  {
   "cell_type": "code",
   "execution_count": 116,
   "metadata": {},
   "outputs": [
    {
     "name": "stdout",
     "output_type": "stream",
     "text": [
      "Has been found 3 jobs related to Frontend\n"
     ]
    }
   ],
   "source": [
    "Frontend = len(df[df['Job Title'].str.contains('Frontend')])\n",
    "print(f'Has been found {Frontend} jobs related to Frontend')"
   ]
  },
  {
   "cell_type": "markdown",
   "metadata": {},
   "source": [
    "# How many job contain the 'Backend' keyword into job title?"
   ]
  },
  {
   "cell_type": "code",
   "execution_count": 117,
   "metadata": {},
   "outputs": [
    {
     "data": {
      "text/html": [
       "<div>\n",
       "<style scoped>\n",
       "    .dataframe tbody tr th:only-of-type {\n",
       "        vertical-align: middle;\n",
       "    }\n",
       "\n",
       "    .dataframe tbody tr th {\n",
       "        vertical-align: top;\n",
       "    }\n",
       "\n",
       "    .dataframe thead th {\n",
       "        text-align: right;\n",
       "    }\n",
       "</style>\n",
       "<table border=\"1\" class=\"dataframe\">\n",
       "  <thead>\n",
       "    <tr style=\"text-align: right;\">\n",
       "      <th></th>\n",
       "      <th>Company Name</th>\n",
       "      <th>Job Title</th>\n",
       "      <th>Location</th>\n",
       "      <th>Posted</th>\n",
       "    </tr>\n",
       "  </thead>\n",
       "  <tbody>\n",
       "    <tr>\n",
       "      <th>8</th>\n",
       "      <td>The Address Investments for Real Estate Consul...</td>\n",
       "      <td>Senior Backend Developer</td>\n",
       "      <td>Cairo, Egypt</td>\n",
       "      <td>2 hours ago</td>\n",
       "    </tr>\n",
       "    <tr>\n",
       "      <th>83</th>\n",
       "      <td>Nadeer -</td>\n",
       "      <td>Backend Developer Node.js</td>\n",
       "      <td>Nasr City, Cairo, Egypt</td>\n",
       "      <td>6 hours ago</td>\n",
       "    </tr>\n",
       "    <tr>\n",
       "      <th>92</th>\n",
       "      <td>Nile University -</td>\n",
       "      <td>Backend Developer</td>\n",
       "      <td>Sheikh Zayed, Giza, Egypt</td>\n",
       "      <td>6 hours ago</td>\n",
       "    </tr>\n",
       "    <tr>\n",
       "      <th>189</th>\n",
       "      <td>Confidential -</td>\n",
       "      <td>Senior Backend Developer (.NET Core)</td>\n",
       "      <td>Nasr City, Cairo, Egypt</td>\n",
       "      <td>18 hours ago</td>\n",
       "    </tr>\n",
       "    <tr>\n",
       "      <th>608</th>\n",
       "      <td>Nugttah -</td>\n",
       "      <td>Backend Development Lead</td>\n",
       "      <td>Cairo, Egypt</td>\n",
       "      <td>4 days ago</td>\n",
       "    </tr>\n",
       "  </tbody>\n",
       "</table>\n",
       "</div>"
      ],
      "text/plain": [
       "                                          Company Name  \\\n",
       "8    The Address Investments for Real Estate Consul...   \n",
       "83                                            Nadeer -   \n",
       "92                                   Nile University -   \n",
       "189                                     Confidential -   \n",
       "608                                          Nugttah -   \n",
       "\n",
       "                                Job Title                    Location  \\\n",
       "8                Senior Backend Developer               Cairo, Egypt    \n",
       "83              Backend Developer Node.js    Nasr City, Cairo, Egypt    \n",
       "92                      Backend Developer  Sheikh Zayed, Giza, Egypt    \n",
       "189  Senior Backend Developer (.NET Core)    Nasr City, Cairo, Egypt    \n",
       "608              Backend Development Lead               Cairo, Egypt    \n",
       "\n",
       "           Posted  \n",
       "8     2 hours ago  \n",
       "83    6 hours ago  \n",
       "92    6 hours ago  \n",
       "189  18 hours ago  \n",
       "608    4 days ago  "
      ]
     },
     "execution_count": 117,
     "metadata": {},
     "output_type": "execute_result"
    }
   ],
   "source": [
    "df[df['Job Title'].str.contains('Backend')].head()"
   ]
  },
  {
   "cell_type": "code",
   "execution_count": 118,
   "metadata": {},
   "outputs": [
    {
     "name": "stdout",
     "output_type": "stream",
     "text": [
      "Has been found 7 jobs related to Backend\n"
     ]
    }
   ],
   "source": [
    "beckend = len(df[df['Job Title'].str.contains('Backend')])\n",
    "print(f'Has been found {beckend} jobs related to Backend')"
   ]
  },
  {
   "cell_type": "markdown",
   "metadata": {},
   "source": [
    "# Export file into xlsx format"
   ]
  },
  {
   "cell_type": "code",
   "execution_count": 119,
   "metadata": {},
   "outputs": [],
   "source": [
    "df.to_excel('jobs_search.xlsx', index=False)"
   ]
  }
 ],
 "metadata": {
  "kernelspec": {
   "display_name": "Python 3.8.8 ('base')",
   "language": "python",
   "name": "python3"
  },
  "language_info": {
   "codemirror_mode": {
    "name": "ipython",
    "version": 3
   },
   "file_extension": ".py",
   "mimetype": "text/x-python",
   "name": "python",
   "nbconvert_exporter": "python",
   "pygments_lexer": "ipython3",
   "version": "3.8.8"
  },
  "orig_nbformat": 4,
  "vscode": {
   "interpreter": {
    "hash": "40d3a090f54c6569ab1632332b64b2c03c39dcf918b08424e98f38b5ae0af88f"
   }
  }
 },
 "nbformat": 4,
 "nbformat_minor": 2
}
